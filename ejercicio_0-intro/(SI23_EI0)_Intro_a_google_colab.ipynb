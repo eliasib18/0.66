{
  "cells": [
    {
      "attachments": {},
      "cell_type": "markdown",
      "metadata": {
        "id": "CuQrgeE5Ml2E"
      },
      "source": [
        "# Introducción a Jupyter Notebook\n",
        "1. Primeros pasos (TODO)\n",
        "2. Entregas de ejercicios\n",
        "2. Orden de ejecución (TODO)\n",
        "3. Introducción a Python (TODO)\n",
        "4. Graficar \n",
        "\n",
        "Nota: Las secciones con la palabra TODO requieren acciones por parte del alumno\n",
        "\n",
        "# 1. Primeros pasos\n",
        "\n",
        "Un \"notebook\" está organizado en celdas. Existen dos tipos principales:\n",
        "1.  Celdas de código\n",
        "2.  Celdas de texto (por ejemplo esta)\n",
        "\n",
        "Cada celda se puede correr por separado y en cualquier orden que quieras. Para correr una celda necesitas activarla (por ejemplo haciendo click en ella). Las celdas de markdown pueden mostrar texto en *itálicas*(`*italica*`), **negritas**(`**italica**`) etc. Incluso permiten la notación matemática en  [$\\LaTeX$](https://www.overleaf.com/learn/latex/Mathematical_expressions):  \n",
        "\n",
        "$v = \\begin{bmatrix} 1  \\\\ 0 \n",
        "      \\end{bmatrix}$\n",
        "\n",
        "\n",
        "Practica transformar la siguiente fórmula de imagen a una fórmula de LaTeX en la siguiente celda.\n",
        "\n",
        "![images.png](data:image/png;base64,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)"
      ]
    },
    {
      "attachments": {},
      "cell_type": "markdown",
      "metadata": {
        "id": "F-Y-5-uLPjm5"
      },
      "source": [
        "#**TODO: Escribe la formula anterior usando LaTeX.**\n",
        "---\n",
        "\n",
        "\n",
        "$A=\\begin{bmatrix}\n",
        " a&b \\\\ \n",
        " c&d \n",
        "\\end{bmatrix}=U\\cdot \\sum \\cdot V^T\n",
        "$"
      ]
    },
    {
      "attachments": {},
      "cell_type": "markdown",
      "metadata": {
        "id": "OjOcKJZJalq4"
      },
      "source": [
        "# 2. Indicaciones para entrega de ejercicios\n",
        "Resuelve los ejercicios agregando código donde encuentres la indicación `#TODO`\n",
        "\n",
        "Cada función que escribas deberá correr sin error. Para la evaluación del ejercicio correré el cuarderno utilizando la opción `Restart and run all` para evaluarte. Obtendras los puntos completos si las celdas corren sin problemas y funciona correctamente.\n",
        "\n",
        "## Ejercicios y proyectos:\n",
        "Durante el curso existiran dos tipos de notebooks.\n",
        "Los notebooks tipo ejercicio tendrán la clave E, cuyo objetivo es comprobar los conocimientos teóricos cubiertos en clase.\n",
        "El siguiente tipo serán los proyectos (clave P), los cuales buscarán que sean capaces de tomar decisiones de diseño y serán incluidos en el portafolio final. A mas tardar una semana después de la entrega de estos proyectos tendrán que estar documentados en su portafolio. Se revisarán los avances a lo largo del curso.\n",
        "\n",
        "\n",
        "El procedimiento para entregar los proyectos y ejercicios será el siguiente:\n",
        "1. Por equipo, crearán un repositorio de github privado con el nombre \"SI23_[nombre_de_equipo]\" donde subirán los proyectos como **jupyter notebook** en carpetas indicadas como \"ejercicio 1\", \"proyecto 1\", \"proyecto 2\" ... \"ejercicio n\". Me agregarán como colaborador al proyecto para poder visualizar las actividades. \n",
        "2. Crearé un link de registro en forms para que den de alta su equipo, integrantes, y repositorio.\n",
        "3. Cada semana subiré un ejercicio nuevo a blackboard como un zip con el contenido requerido para completar la actividad. Copiarán el contenido a su repositorio de github *donde resolverán el ejercicio.*\n",
        "4. Revisaré la solución de github en la fecha indicada y recibirán su calificación en blackboard.\n",
        "\n",
        "Conforme avancemos en la clase, moveremos los proyectos fuera de google colab y tendran que usar archivos de python regulares. Para esto les recomiendo el uso de [anaconda](https://www.anaconda.com/products/distribution) para administrar sus ambientes. Por lo anterior es importante que se familiaricen con github, pero no se preocupen!! durante el curso veremos mas al respecto.\n",
        "\n",
        "## Notas generales:\n",
        "* Todas las entregas son hasta el final de dia indicado. Sin embargo, **se deducirán puntos por entregas tardias y no se aceptan entregas con más de dos dias de retraso.**\n",
        "* Cada semana subiré un ejercicio nuevo a blackboard como enlace al google colab correspondiente.\n",
        "* Los ejercicios tienen tiempo de entrega de 1 semana, los proyectos pueden ser de 1 o 2 semanas.\n",
        "* A pesar de que más de una persona puede acceder a colab al mismo tiempo, el manejo de versión es dificl de rastrear. Por lo anterior, les recomiendo realicen todo su trabajo en github. De esta manera, pueden manejar diferentes versiones de su trabajo y es menos probable que lo pierdan completamente."
      ]
    },
    {
      "cell_type": "markdown",
      "metadata": {
        "id": "eb1jhPvtPIfi"
      },
      "source": [
        "# 3. Ejecutrar celdas de código\n",
        "Para ejecutar una celda activa puedes:\n",
        "*   Hacer click en el boton de correr (flecha) en la izquierda de la celda\n",
        "*   Hacer `CTRL+Enter`\n",
        "\n",
        "El resultado de cada celda se muestra debajo de la misma. El número a la izquierda de la celda muestra en que orden se han corrido las celdas. Si la celda muestra `[*]`, significa que la celda está corriendo actualmente.\n",
        "\n",
        "Puedes ejecutar las celdas en *cualquier orden*. No necesariamente tiene que ser de arriba hacia abajo. Esto significa que el orden en el cual corres las celdas afecta tus variables. Considera que esto puede causar problemas durante el desarrollo.\n",
        "\n",
        "**Sin embargo, tus notebook deberán correr correctamente ejecutándose de principio a fin**\n",
        "\n",
        "Para esto puedes ir a `Runtime-> Restart and run all...`\n",
        "\n",
        "Para practicar el orden de las celdas, puedes utilizar las siguientes celdas como ejemplo."
      ]
    },
    {
      "cell_type": "code",
      "execution_count": null,
      "metadata": {
        "colab": {
          "base_uri": "https://localhost:8080/"
        },
        "id": "v-7y3VhFQ0Z_",
        "outputId": "a88b9128-5d56-4e61-edfb-8adbadfa6252"
      },
      "outputs": [],
      "source": [
        "hola(a)\n",
        "a = \"gente\""
      ]
    },
    {
      "cell_type": "code",
      "execution_count": 5,
      "metadata": {
        "id": "OjgcmRJPQ8s3"
      },
      "outputs": [],
      "source": [
        "a = \"mundo\"\n",
        "def hola(sujeto):\n",
        "  print(\"Hola %s\" %sujeto)"
      ]
    },
    {
      "cell_type": "code",
      "execution_count": 2,
      "metadata": {
        "colab": {
          "base_uri": "https://localhost:8080/"
        },
        "id": "v-7y3VhFQ0Z_",
        "outputId": "a88b9128-5d56-4e61-edfb-8adbadfa6252"
      },
      "outputs": [
        {
          "name": "stdout",
          "output_type": "stream",
          "text": [
            "Hola mundo\n"
          ]
        }
      ],
      "source": [
        "hola(a)\n",
        "a = \"gente\""
      ]
    },
    {
      "cell_type": "markdown",
      "metadata": {
        "id": "YH8lkJeu5CRW"
      },
      "source": [
        "`# TODO: `\n",
        "Intenta agregar una celda nueva de código y texto. Ademas intenta mover el orden y observa como afecta al cuaderno."
      ]
    },
    {
      "attachments": {},
      "cell_type": "markdown",
      "metadata": {},
      "source": [
        "Agregando una celda de texto"
      ]
    },
    {
      "cell_type": "code",
      "execution_count": 1,
      "metadata": {},
      "outputs": [
        {
          "name": "stdout",
          "output_type": "stream",
          "text": [
            "Agregando una celda de codigo\n"
          ]
        }
      ],
      "source": [
        "print (\"Agregando una celda de codigo\")"
      ]
    },
    {
      "cell_type": "markdown",
      "metadata": {
        "id": "90EL3W0EZobh"
      },
      "source": [
        "# 4. Introducción a Python\n",
        "Estamos listos para comenzar el primer ejercicio del curso. En este ejercicio aprenderás el uso básico de el lenguaje de programación python. Además aprenderás a hacer uso de numpy para diversas operaciones con vectores, matrices y tensores.\n",
        "\n",
        "Todos los ejercicios del curso están en la forma de funciones de Python. El cuerpo de la función está dado y solo tienes que agregar el código funcional necesario. Aquí esta un ejemplo:"
      ]
    },
    {
      "cell_type": "code",
      "execution_count": 53,
      "metadata": {
        "id": "QxHe_TqgZ-CJ"
      },
      "outputs": [],
      "source": [
        "def funcion_ejemplo(a):\n",
        "  # TODO\n",
        "  # Regresa a por dos\n",
        "  print(\"hola\")\n",
        "  return a*2"
      ]
    },
    {
      "cell_type": "markdown",
      "metadata": {
        "id": "iYnmNl7maEKQ"
      },
      "source": [
        "En tu ejercicio entonces regresarías la operación *a por dos*. Se vería de esta forma"
      ]
    },
    {
      "cell_type": "code",
      "execution_count": 54,
      "metadata": {
        "id": "DeMtbmdaaLxZ"
      },
      "outputs": [],
      "source": [
        "def funcion_ejemplo(a):\n",
        "  # TODO\n",
        "  return a*2"
      ]
    },
    {
      "cell_type": "markdown",
      "metadata": {
        "id": "HGGz7ASFaQRY"
      },
      "source": [
        "Después de escribir esta línea y correrla puedes usar la función en cualquier bloque de codigo futuro:"
      ]
    },
    {
      "cell_type": "code",
      "execution_count": 55,
      "metadata": {
        "colab": {
          "base_uri": "https://localhost:8080/"
        },
        "id": "8MpPr-1_aaYn",
        "outputId": "16ed1d37-58d2-431e-f2a1-4adef1731086"
      },
      "outputs": [
        {
          "name": "stdout",
          "output_type": "stream",
          "text": [
            "resultado de 2.5 por dos\n"
          ]
        },
        {
          "data": {
            "text/plain": [
              "5.0"
            ]
          },
          "execution_count": 55,
          "metadata": {},
          "output_type": "execute_result"
        }
      ],
      "source": [
        "print(\"resultado de 2.5 por dos\")\n",
        "funcion_ejemplo(2.5)"
      ]
    },
    {
      "cell_type": "markdown",
      "metadata": {
        "id": "lGDPLjZE3s_w"
      },
      "source": [
        "## Variables en python\n",
        "En Python, no es necesario declarar variables. En cambio al momento de inicializar una variable, el lenguaje determina el tipo de dato en función del valor que se le asigne"
      ]
    },
    {
      "cell_type": "code",
      "execution_count": 3,
      "metadata": {
        "id": "41eC8XXe3syI"
      },
      "outputs": [
        {
          "name": "stdout",
          "output_type": "stream",
          "text": [
            "<class 'int'>\n",
            "<class 'float'>\n",
            "<class 'float'>\n"
          ]
        }
      ],
      "source": [
        "x = 1   # Esto se inicializa como int\n",
        "print(type(x))\n",
        "\n",
        "y = 1.0 # Esto se inicializa como float\n",
        "print(type(y))\n",
        "\n",
        "z = x + y # Esta variable será de tipo float ya que es más general que entero.\n",
        "print(type(z))"
      ]
    },
    {
      "cell_type": "markdown",
      "metadata": {
        "id": "nSvrwx1738zY"
      },
      "source": [
        "### Variables string"
      ]
    },
    {
      "cell_type": "code",
      "execution_count": 10,
      "metadata": {
        "id": "5SKPKQMn3y3o"
      },
      "outputs": [
        {
          "name": "stdout",
          "output_type": "stream",
          "text": [
            "hola 2.0\n",
            "<class 'str'>\n",
            "Hola: x es 1, y es 1.000000\n",
            "Hola: x es 01, y es 1.00\n",
            "Hola: x es 1, y es 1.0\n",
            "Hola: x es 01, y es 1.00\n"
          ]
        }
      ],
      "source": [
        "s = \"hola\"  # Esta variable es string\n",
        "print(s + \" \" + str(z))  # Imprimine hola 2.0\n",
        "print(type(s))\n",
        "\n",
        "# Para concatenar valores a un string, se utiliza %d para valores enteros y %f para valores float\n",
        "print(\"Hola: x es %d, y es %f\" %(x,y)) \n",
        "\n",
        "# Para restringir definir la cantidad de caracteres se usa asi:\n",
        "print(\"Hola: x es %02d, y es %.2f\" %(x,y))\n",
        "\n",
        "# Equivalentemente se puede hacer de la siguiente manera\n",
        "print(f\"Hola: x es {x}, y es {y}\")\n",
        "print(f\"Hola: x es {x:02d}, y es {y:.2f}\")"
      ]
    },
    {
      "cell_type": "markdown",
      "metadata": {
        "id": "nh23twA-37ZQ"
      },
      "source": [
        "### Diccionarios y listas"
      ]
    },
    {
      "cell_type": "code",
      "execution_count": 4,
      "metadata": {
        "id": "l0L2IDkC32jg"
      },
      "outputs": [
        {
          "name": "stdout",
          "output_type": "stream",
          "text": [
            "{'llave': 1}\n",
            "{'llave': 1, 'nueva llave': 5}\n",
            "[1, 2, 3]\n",
            "[1, 2, 3, 4, 5]\n",
            "[1, 2, 3, 4, 5, 6]\n"
          ]
        }
      ],
      "source": [
        "# Diccionarios\n",
        "valor = 1\n",
        "d = {\"llave\": valor}\n",
        "print(d)\n",
        "d[\"nueva llave\"] = 5\n",
        "print(d)\n",
        "\n",
        "# En python, todos los arreglos son listas\n",
        "a = [1, 2, 3]\n",
        "print(a)\n",
        "a.extend([4, 5])\n",
        "print(a)\n",
        "a.append(6)\n",
        "print(a)"
      ]
    },
    {
      "cell_type": "markdown",
      "metadata": {
        "id": "ZfFohFoZ36CI"
      },
      "source": [
        "### For loops"
      ]
    },
    {
      "cell_type": "code",
      "execution_count": 6,
      "metadata": {
        "id": "bTDjes2635sS"
      },
      "outputs": [
        {
          "name": "stdout",
          "output_type": "stream",
          "text": [
            "ciclo 0\n",
            "ciclo 1\n",
            "ciclo 2\n",
            "ciclo 3\n",
            "ciclo 4\n",
            "[5, 6, 8, 1, 3, 4]\n",
            "[1, 3, 4, 5, 6, 8]\n"
          ]
        }
      ],
      "source": [
        "# For loops\n",
        "for i in range(5):\n",
        "  print(f\"ciclo {i}\")\n",
        "\n",
        "# ordenar listas\n",
        "lista = [5, 6, 8, 1, 3, 4]\n",
        "print(lista)\n",
        "lista.sort()\n",
        "print(lista)"
      ]
    },
    {
      "attachments": {},
      "cell_type": "markdown",
      "metadata": {
        "id": "wDKnoeFR3luY"
      },
      "source": [
        "## Tu turno!\n",
        "Para practicar el uso de listas y syntaxis de python, resuelve el siguiente problema: \n",
        "\n",
        "Dado una lista `nums`, por cada `nums[i]` encuentra cuantos números en la lista son menores que el. Es decir, por cada `nums[i]` tienes que contar cuantas `j's` válidas existen tal que `j != i` y `nums[j] < nums[i]`:\n",
        "\n",
        "Ejemplo:\n",
        "\n",
        "```\n",
        "Entrada: nums = [8, 1, 2, 2, 3]\n",
        "Salida: [4, 0, 1, 1, 3]\n",
        "Explicación:\n",
        "Para nums[0] = 8 existen 4 numeros menores en nums (1, 2, 2, 3)\n",
        "Para nums[1] = 1 no existe un número menor\n",
        "Para nums[2] = 2 existen 1 número menor (1)\n",
        "Para nums[3] = 2 existen 1 número menor (1)\n",
        "Para nums[4] = 3 existen 3 numeros menores en nums (1, 2, 2)\n",
        "```\n",
        "\n",
        "No es necesario que la solución sea óptima. El objetivo de esto es que practiquen el uso de python. Los casos de prueba están para que puedan verificar el funcionamiento de su método. "
      ]
    },
    {
      "cell_type": "code",
<<<<<<< HEAD
<<<<<<< HEAD
<<<<<<< HEAD
      "execution_count": 50,
=======
      "execution_count": 43,
>>>>>>> 0aa3c4d (TODO en Variables)
=======
      "execution_count": 48,
>>>>>>> 2f483da (TODO en Variables (Run Fix))
=======
      "execution_count": 50,
>>>>>>> 5f68068 (TODO - Introduccion a Python)
      "metadata": {
        "id": "W1DQYDZy4OLd"
      },
      "outputs": [],
      "source": [
        "def numeroMenorQue(nums):\n",
        "  # TODO: Completa el método\n",
        "  output = []\n",
        "  for i in range(len(nums)):\n",
        "    count = 0\n",
        "    for j in range(len(nums)):\n",
        "      if nums[i] > nums[j]:\n",
        "        count = count + 1\n",
        "    output.append(count)\n",
        "  return output"
      ]
    },
    {
      "cell_type": "markdown",
      "metadata": {
        "id": "ZFubUj8r4QXG"
      },
      "source": [
        "**Prueba tu solución**"
      ]
    },
    {
      "cell_type": "code",
<<<<<<< HEAD
<<<<<<< HEAD
<<<<<<< HEAD
      "execution_count": 56,
=======
      "execution_count": 44,
>>>>>>> 0aa3c4d (TODO en Variables)
=======
      "execution_count": 46,
>>>>>>> 2f483da (TODO en Variables (Run Fix))
=======
      "execution_count": 56,
>>>>>>> 5f68068 (TODO - Introduccion a Python)
      "metadata": {
        "id": "pyjINCPj4PZE"
      },
      "outputs": [
        {
          "name": "stdout",
          "output_type": "stream",
          "text": [
<<<<<<< HEAD
<<<<<<< HEAD
            "[2, 1, 0, 3]\n",
            "[0, 0, 0, 0]\n",
            "tu solución es correcta\n"
=======
            "[4, 4, 4, 4]\n",
            "[4, 4, 4, 4]\n",
            "tu solución es incorrecta\n"
>>>>>>> 0aa3c4d (TODO en Variables)
=======
            "[2, 1, 0, 3]\n",
            "[0, 0, 0, 0]\n",
            "tu solución es correcta\n"
>>>>>>> 2f483da (TODO en Variables (Run Fix))
          ]
        }
      ],
      "source": [
        "test_cases = [[6, 5, 4, 8], [7, 7, 7, 7]]\n",
        "solutions = [[2, 1, 0, 3], [0, 0, 0, 0]]\n",
        "correcto = True\n",
        "for caso, sol in zip(test_cases, solutions):\n",
        "  res = numeroMenorQue(caso)\n",
        "  print(res)\n",
        "  if((sol != res)):\n",
        "    correcto = False\n",
        "  \n",
        "s = \"correcta\" if correcto else \"incorrecta\"\n",
        "print(\"tu solución es \"+ s)"
      ]
    },
    {
      "cell_type": "markdown",
      "metadata": {
        "id": "g-ySoAQW3VQw"
      },
      "source": [
        "# 4. Graficar datos usando matplotlib\n",
        "\n",
        "Una ventaja muy grande de este cuaderno, es que puedes graficar directamente usando matplotlib.\n",
        "\n",
        "**NOTA: Para activar esta función neesitas agregar el siguiente comando *mágico***\n",
        "\n",
        "*-> Ejecuta las siguientes celdas*"
      ]
    },
    {
      "cell_type": "code",
<<<<<<< HEAD
<<<<<<< HEAD
<<<<<<< HEAD
      "execution_count": 47,
=======
      "execution_count": 11,
>>>>>>> 0aa3c4d (TODO en Variables)
=======
      "execution_count": 47,
>>>>>>> 2f483da (TODO en Variables (Run Fix))
      "metadata": {
        "id": "s0fja5Kw3TTg"
      },
      "outputs": [
        {
          "ename": "ModuleNotFoundError",
          "evalue": "No module named 'matplotlib'",
          "output_type": "error",
          "traceback": [
            "\u001b[1;31m---------------------------------------------------------------------------\u001b[0m",
            "\u001b[1;31mModuleNotFoundError\u001b[0m                       Traceback (most recent call last)",
<<<<<<< HEAD
<<<<<<< HEAD
            "Cell \u001b[1;32mIn[47], line 1\u001b[0m\n\u001b[1;32m----> 1\u001b[0m get_ipython()\u001b[39m.\u001b[39;49mrun_line_magic(\u001b[39m'\u001b[39;49m\u001b[39mmatplotlib\u001b[39;49m\u001b[39m'\u001b[39;49m, \u001b[39m'\u001b[39;49m\u001b[39minline\u001b[39;49m\u001b[39m'\u001b[39;49m)\n",
=======
            "Cell \u001b[1;32mIn[11], line 1\u001b[0m\n\u001b[1;32m----> 1\u001b[0m get_ipython()\u001b[39m.\u001b[39;49mrun_line_magic(\u001b[39m'\u001b[39;49m\u001b[39mmatplotlib\u001b[39;49m\u001b[39m'\u001b[39;49m, \u001b[39m'\u001b[39;49m\u001b[39minline\u001b[39;49m\u001b[39m'\u001b[39;49m)\n",
>>>>>>> 0aa3c4d (TODO en Variables)
=======
            "Cell \u001b[1;32mIn[47], line 1\u001b[0m\n\u001b[1;32m----> 1\u001b[0m get_ipython()\u001b[39m.\u001b[39;49mrun_line_magic(\u001b[39m'\u001b[39;49m\u001b[39mmatplotlib\u001b[39;49m\u001b[39m'\u001b[39;49m, \u001b[39m'\u001b[39;49m\u001b[39minline\u001b[39;49m\u001b[39m'\u001b[39;49m)\n",
>>>>>>> 2f483da (TODO en Variables (Run Fix))
            "File \u001b[1;32m~\\AppData\\Roaming\\Python\\Python311\\site-packages\\IPython\\core\\interactiveshell.py:2369\u001b[0m, in \u001b[0;36mInteractiveShell.run_line_magic\u001b[1;34m(self, magic_name, line, _stack_depth)\u001b[0m\n\u001b[0;32m   2367\u001b[0m     kwargs[\u001b[39m'\u001b[39m\u001b[39mlocal_ns\u001b[39m\u001b[39m'\u001b[39m] \u001b[39m=\u001b[39m \u001b[39mself\u001b[39m\u001b[39m.\u001b[39mget_local_scope(stack_depth)\n\u001b[0;32m   2368\u001b[0m \u001b[39mwith\u001b[39;00m \u001b[39mself\u001b[39m\u001b[39m.\u001b[39mbuiltin_trap:\n\u001b[1;32m-> 2369\u001b[0m     result \u001b[39m=\u001b[39m fn(\u001b[39m*\u001b[39;49margs, \u001b[39m*\u001b[39;49m\u001b[39m*\u001b[39;49mkwargs)\n\u001b[0;32m   2370\u001b[0m \u001b[39mreturn\u001b[39;00m result\n",
            "File \u001b[1;32m~\\AppData\\Roaming\\Python\\Python311\\site-packages\\IPython\\core\\magics\\pylab.py:99\u001b[0m, in \u001b[0;36mPylabMagics.matplotlib\u001b[1;34m(self, line)\u001b[0m\n\u001b[0;32m     97\u001b[0m     \u001b[39mprint\u001b[39m(\u001b[39m\"\u001b[39m\u001b[39mAvailable matplotlib backends: \u001b[39m\u001b[39m%s\u001b[39;00m\u001b[39m\"\u001b[39m \u001b[39m%\u001b[39m backends_list)\n\u001b[0;32m     98\u001b[0m \u001b[39melse\u001b[39;00m:\n\u001b[1;32m---> 99\u001b[0m     gui, backend \u001b[39m=\u001b[39m \u001b[39mself\u001b[39;49m\u001b[39m.\u001b[39;49mshell\u001b[39m.\u001b[39;49menable_matplotlib(args\u001b[39m.\u001b[39;49mgui\u001b[39m.\u001b[39;49mlower() \u001b[39mif\u001b[39;49;00m \u001b[39misinstance\u001b[39;49m(args\u001b[39m.\u001b[39;49mgui, \u001b[39mstr\u001b[39;49m) \u001b[39melse\u001b[39;49;00m args\u001b[39m.\u001b[39;49mgui)\n\u001b[0;32m    100\u001b[0m     \u001b[39mself\u001b[39m\u001b[39m.\u001b[39m_show_matplotlib_backend(args\u001b[39m.\u001b[39mgui, backend)\n",
            "File \u001b[1;32m~\\AppData\\Roaming\\Python\\Python311\\site-packages\\IPython\\core\\interactiveshell.py:3522\u001b[0m, in \u001b[0;36mInteractiveShell.enable_matplotlib\u001b[1;34m(self, gui)\u001b[0m\n\u001b[0;32m   3501\u001b[0m \u001b[39mdef\u001b[39;00m \u001b[39menable_matplotlib\u001b[39m(\u001b[39mself\u001b[39m, gui\u001b[39m=\u001b[39m\u001b[39mNone\u001b[39;00m):\n\u001b[0;32m   3502\u001b[0m \u001b[39m    \u001b[39m\u001b[39m\"\"\"Enable interactive matplotlib and inline figure support.\u001b[39;00m\n\u001b[0;32m   3503\u001b[0m \n\u001b[0;32m   3504\u001b[0m \u001b[39m    This takes the following steps:\u001b[39;00m\n\u001b[1;32m   (...)\u001b[0m\n\u001b[0;32m   3520\u001b[0m \u001b[39m        display figures inline.\u001b[39;00m\n\u001b[0;32m   3521\u001b[0m \u001b[39m    \"\"\"\u001b[39;00m\n\u001b[1;32m-> 3522\u001b[0m     \u001b[39mfrom\u001b[39;00m \u001b[39mmatplotlib_inline\u001b[39;00m\u001b[39m.\u001b[39;00m\u001b[39mbackend_inline\u001b[39;00m \u001b[39mimport\u001b[39;00m configure_inline_support\n\u001b[0;32m   3524\u001b[0m     \u001b[39mfrom\u001b[39;00m \u001b[39mIPython\u001b[39;00m\u001b[39m.\u001b[39;00m\u001b[39mcore\u001b[39;00m \u001b[39mimport\u001b[39;00m pylabtools \u001b[39mas\u001b[39;00m pt\n\u001b[0;32m   3525\u001b[0m     gui, backend \u001b[39m=\u001b[39m pt\u001b[39m.\u001b[39mfind_gui_and_backend(gui, \u001b[39mself\u001b[39m\u001b[39m.\u001b[39mpylab_gui_select)\n",
            "File \u001b[1;32m~\\AppData\\Roaming\\Python\\Python311\\site-packages\\matplotlib_inline\\__init__.py:1\u001b[0m\n\u001b[1;32m----> 1\u001b[0m \u001b[39mfrom\u001b[39;00m \u001b[39m.\u001b[39;00m \u001b[39mimport\u001b[39;00m backend_inline, config  \u001b[39m# noqa\u001b[39;00m\n\u001b[0;32m      2\u001b[0m __version__ \u001b[39m=\u001b[39m \u001b[39m\"\u001b[39m\u001b[39m0.1.6\u001b[39m\u001b[39m\"\u001b[39m  \u001b[39m# noqa\u001b[39;00m\n",
            "File \u001b[1;32m~\\AppData\\Roaming\\Python\\Python311\\site-packages\\matplotlib_inline\\backend_inline.py:6\u001b[0m\n\u001b[0;32m      1\u001b[0m \u001b[39m\"\"\"A matplotlib backend for publishing figures via display_data\"\"\"\u001b[39;00m\n\u001b[0;32m      3\u001b[0m \u001b[39m# Copyright (c) IPython Development Team.\u001b[39;00m\n\u001b[0;32m      4\u001b[0m \u001b[39m# Distributed under the terms of the BSD 3-Clause License.\u001b[39;00m\n\u001b[1;32m----> 6\u001b[0m \u001b[39mimport\u001b[39;00m \u001b[39mmatplotlib\u001b[39;00m\n\u001b[0;32m      7\u001b[0m \u001b[39mfrom\u001b[39;00m \u001b[39mmatplotlib\u001b[39;00m \u001b[39mimport\u001b[39;00m colors\n\u001b[0;32m      8\u001b[0m \u001b[39mfrom\u001b[39;00m \u001b[39mmatplotlib\u001b[39;00m\u001b[39m.\u001b[39;00m\u001b[39mbackends\u001b[39;00m \u001b[39mimport\u001b[39;00m backend_agg\n",
            "\u001b[1;31mModuleNotFoundError\u001b[0m: No module named 'matplotlib'"
          ]
        }
      ],
=======
      "execution_count": 2,
      "metadata": {
        "id": "s0fja5Kw3TTg"
      },
      "outputs": [],
>>>>>>> 4691f6b (Testing Environment)
      "source": [
        "%matplotlib inline"
      ]
    },
    {
      "cell_type": "markdown",
      "metadata": {
        "id": "74flHjRA3X_4"
      },
      "source": [
        "Ejemplo:"
      ]
    },
    {
      "cell_type": "code",
      "execution_count": 1,
      "metadata": {
        "id": "Rpul7RwO3ahJ"
      },
      "outputs": [
        {
          "data": {
            "text/plain": [
              "<matplotlib.collections.PathCollection at 0x238f73c4400>"
            ]
          },
          "execution_count": 1,
          "metadata": {},
          "output_type": "execute_result"
        },
        {
          "data": {
            "image/png": "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",
            "text/plain": [
              "<Figure size 640x480 with 1 Axes>"
            ]
          },
          "metadata": {},
          "output_type": "display_data"
        }
      ],
      "source": [
        "import matplotlib.pyplot as plt\n",
        "import numpy as np\n",
        "\n",
        "x = np.random.randn(100, 1)\n",
        "y = np.random.randn(100, 1)\n",
        "\n",
        "c = np.random.uniform(size = (100, 1))\n",
        "plt.scatter(x, y)"
      ]
    }
  ],
  "metadata": {
    "colab": {
      "provenance": []
    },
    "kernelspec": {
<<<<<<< HEAD
<<<<<<< HEAD
      "display_name": "sistemas_inteligentes",
=======
      "display_name": "Python 3",
>>>>>>> 047b406 (Added Code and Text Cells)
=======
      "display_name": "sistemas_inteligentes",
>>>>>>> 4691f6b (Testing Environment)
      "language": "python",
      "name": "python3"
    },
    "language_info": {
      "codemirror_mode": {
        "name": "ipython",
        "version": 3
      },
      "file_extension": ".py",
      "mimetype": "text/x-python",
      "name": "python",
      "nbconvert_exporter": "python",
      "pygments_lexer": "ipython3",
<<<<<<< HEAD
<<<<<<< HEAD
      "version": "3.8.16"
    },
    "vscode": {
      "interpreter": {
        "hash": "36ce25a5fcbed54c7290d3efc3c2c9898bd3e2b8c16133933bde4c938067dbee"
=======
      "version": "3.11.1"
    },
    "vscode": {
      "interpreter": {
        "hash": "dda41397d9c1e873ec39c3dafb020c2af34f327d0e535e7b04e93369c9b29ca7"
>>>>>>> 047b406 (Added Code and Text Cells)
=======
      "version": "3.8.16"
    },
    "vscode": {
      "interpreter": {
        "hash": "36ce25a5fcbed54c7290d3efc3c2c9898bd3e2b8c16133933bde4c938067dbee"
>>>>>>> 4691f6b (Testing Environment)
      }
    }
  },
  "nbformat": 4,
  "nbformat_minor": 0
}
