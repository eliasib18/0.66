{
 "cells": [
  {
   "attachments": {},
   "cell_type": "markdown",
   "metadata": {},
   "source": [
    "# Proyecto 1: Identificando números con imágenes\n",
    "En este ejercicio analizaras e identificarás números dados en la forma de imagen. Para ello puedes utilizar tu solución preferida identificar grupos de imágenes similares. Por ejemplo, puedes aplicar reducción de dimensionalidad antes o después del entrenamiento, puedes también elegir no usarlo. Para hacer la predicción puedes hacer uso de un método de agrupamiento y resolver la tarea con aprendizaje no supervisado, o puedes utilizar un algoritmo de clasificación y elegir el camino de aprendizaje supervisado.\n",
    "\n",
    "A diferencia de los ejercicios anteriores donde programaste las soluciones analíticas a los métodos de ML, en este proyecto se recomienda el uso de las funciones y clases integradas de scikit-learn. Para entender el uso de estas clases y ver algunos ejemplos puedes consultar la documentación oficial\n",
    "- [PCA](https://scikit-learn.org/stable/modules/generated/sklearn.decomposition.PCA.html)\n",
    "- [TSNE](https://scikit-learn.org/stable/modules/generated/sklearn.manifold.TSNE.html#sklearn.manifold.TSNE)\n",
    "- [KMeans](https://scikit-learn.org/stable/modules/generated/sklearn.cluster.KMeans.html)\n",
    "- [DBScan](https://scikit-learn.org/stable/modules/generated/sklearn.cluster.DBSCAN.html)\n",
    "- [LogisticRegression](https://scikit-learn.org/stable/modules/generated/sklearn.linear_model.LogisticRegression.html)\n",
    "\n",
    "En este proyecto tendrás que elegir que método de reducción de dimensionalidad y que método de agrupamiento deseas aplicar a tus datos. Es tu trabajo analizar la información dada para tomar estas decisiones. Lee con atención todas las instrucciones y celdas de código, y recuerda agregar tu código en todas las partes donde veas la instrucción \"`TODO`\"\n",
    "\n",
    "## Descripción\n",
    "Tu trabajo es identificar grupos en imágenes para reconocimiento de números. Para esto, deberás realizar los siguientes pasos:\n",
    "1. Dado que nuestros datos están en diferentes escalas, es necesario normalizar los datos.\n",
    "2. Aplicar un método de reducción de dimensionalidad y visualizar los datos\n",
    "3. Buscar grupos en los datos reducidos con alguna técnica de agrupamiento o clasificación.\n",
    "4. Interpretar los resultados.\n",
    "5. Dadas dos imágenes nuevas, identificar a que grupo pertenece. (Inferencia)\n",
    "\n",
    "Nota como existen múltiples soluciones a este problema. La decisión de como resolverlo es tuya (: intenta hacerlo lo mejor posible!\n",
    "Comenzamos por importar las librerías correspondientes."
   ]
  },
  {
   "cell_type": "code",
   "execution_count": 6,
   "metadata": {},
   "outputs": [],
   "source": [
    "import numpy as np\n",
    "import matplotlib.pyplot as plt\n",
    "from sklearn.linear_model import LogisticRegression\n",
    "from sklearn.cluster import KMeans, DBSCAN\n",
    "from sklearn.decomposition import PCA\n",
    "from sklearn.manifold import TSNE\n",
    "from sklearn.preprocessing import StandardScaler\n",
    "from sklearn.datasets import load_digits\n",
    "from sklearn.model_selection import train_test_split\n",
    "from sklearn import metrics\n",
    "import warnings\n",
    "warnings.filterwarnings('ignore')"
   ]
  },
  {
   "attachments": {},
   "cell_type": "markdown",
   "metadata": {},
   "source": [
    " ## 1. Analizando los datos\n",
    " Comenzamos leyendo nuestros datos y visualizando algunos ejemplos para analizarlos. En este caso utilizaremos el [digits dataset](https://scikit-learn.org/stable/auto_examples/datasets/plot_digits_last_image.html#sphx-glr-auto-examples-datasets-plot-digits-last-image-py). En este dataset encontrarás 1797 imágenes de 8x8. Cada imagen es un dígito escrito a mano. Primero separaremos los datos en entrenamiento y validación\n",
    "\n",
    " Recuerda! los datos de entranmiento *son los únicos* que puedes usar para entrenar tus modelos. El conjunto de validación solo se utilizará para evaluar el rendimiento de los modelos que elijas."
   ]
  },
  {
   "cell_type": "code",
   "execution_count": 7,
   "metadata": {},
   "outputs": [
    {
     "name": "stdout",
     "output_type": "stream",
     "text": [
      "Imágenes en rango 16.0, 0.0\n",
      "# Dígitos: 10; # Muestras de entrenamiento: 1347; # Variables 64\n",
      "# Dígitos: 10; # Muestras de validación: 450; # Variables 64\n"
     ]
    }
   ],
   "source": [
    "# Cargamos nuestros datos y los separamos en entrenamiento y validación\n",
    "data, labels = load_digits(return_X_y=True)\n",
    "\n",
    "# El 25% de los datos se asignará aleatoriamente a validación\n",
    "data_train, data_val, target_train, target_val = train_test_split(\n",
    "    data, \n",
    "    labels, \n",
    "    test_size=0.25\n",
    ")\n",
    "print(f\"Imágenes en rango {np.max(data)}, {np.min(data)}\")\n",
    "\n",
    "# Entrenamiento\n",
    "(n_samples, n_features), n_digits = data_train.shape, np.unique(target_train).size\n",
    "print(f\"# Dígitos: {n_digits}; # Muestras de entrenamiento: {n_samples}; # Variables {n_features}\")\n",
    "\n",
    "# Validación\n",
    "(n_samples, n_features), n_digits = data_val.shape, np.unique(target_val).size\n",
    "print(f\"# Dígitos: {n_digits}; # Muestras de validación: {n_samples}; # Variables {n_features}\")"
   ]
  },
  {
   "attachments": {},
   "cell_type": "markdown",
   "metadata": {},
   "source": [
    "En este ejercicio las imágenes se entregan como un vector de 64 variables, donde cada elemento corresponde al valor de un pixel. Para visualizar los datos en forma de imagen, es necesario transformarlos a la forma adecuada. En las siguiente celda puedes ver algunas imágenes de ejemplo, así como la forma en que podemos transformar el vector de variables a una matriz de 8x8."
   ]
  },
  {
   "cell_type": "code",
   "execution_count": 8,
   "metadata": {},
   "outputs": [
    {
     "data": {
      "text/plain": [
       "<Figure size 640x480 with 0 Axes>"
      ]
     },
     "metadata": {},
     "output_type": "display_data"
    },
    {
     "data": {
      "image/png": "[encoded data removed]",
      "text/plain": [
       "<Figure size 600x300 with 3 Axes>"
      ]
     },
     "metadata": {},
     "output_type": "display_data"
    }
   ],
   "source": [
    "plt.gray()\n",
    "\n",
    "# Visualizar algunas imágenes\n",
    "n_cols = 3\n",
    "idx = np.random.randint(len(data_train), size=n_cols)\n",
    "fig, axes = plt.subplots(1, n_cols, figsize=(6,3))\n",
    "axes = axes.flatten()\n",
    "for ax, i in zip(axes, idx):\n",
    "    side = np.sqrt(len(data_train[i])).astype('int')\n",
    "    # La imagen está dada como un solo vector de longitud 64\n",
    "    # Cambiamos la forma para tenerla en forma de imagen de 8x8 pixeles\n",
    "    img = data[i].reshape((side, side))\n",
    "    ax.matshow(img)\n",
    "    ax.axis('off')\n",
    "    ax.set_title(f\"Etiqueta: {labels[i]}\")\n",
    "fig.suptitle(\"Ejemplos de muestras de entrenamiento\")\n",
    "plt.tight_layout()\n",
    "plt.show()"
   ]
  },
  {
   "attachments": {},
   "cell_type": "markdown",
   "metadata": {},
   "source": [
    "## Visualización en baja dimensionalidad\n",
    "En la siguiente celda puedes visualizar como se ven tus datos reduciendo la dimensionalidad de 30 variables a 2. Explora usar TSNE y PCA, y elige el que te de mejor información.\n",
    "\n",
    "Considera que durante inferencia, siempre trabajaremos con los datos de validación exclusivamente y solo se utilizarán los de entrenamiento para entrenar.\n",
    "\n",
    "¿Cual método de reducción de dimensionalidad funciona mejor en este caso?\n"
   ]
  },
  {
   "cell_type": "code",
   "execution_count": 23,
   "metadata": {},
   "outputs": [
    {
     "name": "stdout",
     "output_type": "stream",
     "text": [
      "[0 1 2 3 4 5 6 7 8 9]\n",
      "1347\n",
      "450\n",
      "(array([  15,   29,   50,   56,   67,   78,   82,  104,  105,  113,  130,\n",
      "        135,  138,  140,  141,  143,  149,  151,  152,  156,  169,  176,\n",
      "        187,  193,  200,  210,  219,  229,  231,  237,  239,  293,  310,\n",
      "        313,  325,  347,  356,  363,  381,  384,  423,  424,  457,  467,\n",
      "        505,  513,  537,  546,  547,  551,  563,  594,  639,  644,  660,\n",
      "        663,  666,  668,  682,  685,  686,  691,  697,  719,  731,  746,\n",
      "        767,  798,  803,  806,  811,  838,  861,  872,  873,  900,  906,\n",
      "        920,  936,  938,  946,  957,  963,  966,  979,  985,  987,  998,\n",
      "        999, 1007, 1030, 1037, 1039, 1043, 1064, 1067, 1079, 1090, 1091,\n",
      "       1095, 1113, 1117, 1133, 1138, 1140, 1142, 1147, 1152, 1154, 1158,\n",
      "       1163, 1165, 1171, 1176, 1178, 1184, 1194, 1203, 1204, 1210, 1214,\n",
      "       1217, 1227, 1240, 1266, 1276, 1286, 1287, 1292, 1307, 1311, 1318,\n",
      "       1343], dtype=int64),)\n",
      "(array([   0,   19,   20,   24,   44,   52,   55,   65,   81,   90,   91,\n",
      "         95,  101,  107,  108,  114,  117,  128,  155,  166,  170,  192,\n",
      "        194,  204,  213,  215,  262,  263,  266,  274,  276,  278,  281,\n",
      "        301,  303,  308,  320,  331,  333,  334,  376,  382,  407,  416,\n",
      "        426,  441,  451,  456,  484,  491,  504,  512,  516,  525,  528,\n",
      "        545,  561,  577,  580,  583,  588,  592,  597,  620,  621,  627,\n",
      "        630,  637,  640,  653,  654,  658,  677,  679,  681,  689,  699,\n",
      "        709,  726,  749,  754,  765,  768,  792,  808,  828,  835,  842,\n",
      "        843,  844,  863,  877,  884,  887,  896,  921,  928,  932,  940,\n",
      "        943,  952,  953,  993, 1003, 1017, 1025, 1026, 1034, 1049, 1052,\n",
      "       1055, 1056, 1071, 1082, 1085, 1086, 1094, 1096, 1107, 1130, 1162,\n",
      "       1164, 1166, 1170, 1174, 1175, 1182, 1196, 1208, 1209, 1212, 1259,\n",
      "       1264, 1279, 1317, 1322, 1327, 1342], dtype=int64),)\n",
      "(array([   4,   37,   39,   45,   61,   72,   73,   75,   83,  102,  110,\n",
      "        111,  133,  158,  174,  178,  190,  191,  196,  234,  235,  250,\n",
      "        264,  273,  284,  288,  297,  309,  335,  344,  359,  365,  366,\n",
      "        383,  391,  393,  400,  404,  408,  409,  412,  413,  436,  452,\n",
      "        462,  487,  495,  498,  510,  518,  524,  527,  530,  536,  541,\n",
      "        556,  562,  566,  567,  633,  634,  647,  651,  655,  665,  671,\n",
      "        690,  701,  710,  713,  735,  738,  743,  751,  764,  766,  776,\n",
      "        777,  778,  780,  787,  789,  794,  802,  814,  824,  830,  854,\n",
      "        857,  879,  898,  899,  911,  922,  930,  944,  961, 1006, 1019,\n",
      "       1032, 1050, 1060, 1065, 1066, 1074, 1083, 1093, 1098, 1126, 1128,\n",
      "       1146, 1149, 1168, 1173, 1187, 1198, 1200, 1224, 1226, 1236, 1238,\n",
      "       1243, 1260, 1265, 1277, 1278, 1285, 1302, 1321, 1330, 1331, 1338],\n",
      "      dtype=int64),)\n",
      "(array([   3,    8,   51,   53,   98,  124,  142,  144,  146,  154,  159,\n",
      "        173,  186,  199,  211,  216,  221,  223,  227,  249,  257,  265,\n",
      "        267,  292,  295,  300,  307,  336,  338,  353,  354,  362,  370,\n",
      "        372,  386,  390,  405,  415,  425,  433,  437,  446,  458,  461,\n",
      "        470,  475,  479,  482,  490,  494,  499,  529,  543,  550,  565,\n",
      "        570,  576,  584,  586,  590,  593,  616,  619,  625,  641,  664,\n",
      "        667,  673,  678,  702,  711,  724,  727,  748,  759,  771,  786,\n",
      "        793,  809,  825,  831,  834,  840,  845,  852,  869,  894,  902,\n",
      "        904,  905,  914,  927,  937,  941,  948,  978,  988, 1000, 1005,\n",
      "       1012, 1016, 1033, 1035, 1036, 1048, 1059, 1063, 1088, 1102, 1116,\n",
      "       1135, 1143, 1185, 1206, 1211, 1216, 1218, 1234, 1248, 1252, 1256,\n",
      "       1263, 1273, 1280, 1293, 1326, 1340], dtype=int64),)\n",
      "(array([   2,    9,   11,   30,   33,   41,   47,   58,   64,   69,   76,\n",
      "        100,  106,  120,  131,  145,  164,  167,  180,  238,  244,  245,\n",
      "        256,  258,  275,  285,  286,  337,  341,  342,  343,  351,  357,\n",
      "        371,  380,  389,  395,  410,  414,  417,  418,  431,  432,  434,\n",
      "        440,  444,  453,  465,  471,  481,  485,  488,  489,  501,  509,\n",
      "        521,  553,  558,  568,  573,  581,  601,  602,  608,  611,  613,\n",
      "        614,  622,  623,  648,  650,  656,  684,  688,  696,  714,  745,\n",
      "        760,  761,  773,  783,  785,  799,  800,  810,  815,  848,  853,\n",
      "        855,  858,  867,  868,  875,  880,  889,  895,  907,  915,  925,\n",
      "        934,  942,  954,  960,  964,  982,  984,  994,  995,  996, 1010,\n",
      "       1011, 1038, 1041, 1068, 1075, 1120, 1123, 1131, 1132, 1134, 1150,\n",
      "       1156, 1179, 1186, 1207, 1230, 1269, 1283, 1291, 1295, 1300, 1312,\n",
      "       1324, 1329, 1335, 1339, 1341, 1345, 1346], dtype=int64),)\n",
      "(array([   1,   10,   14,   49,   68,   71,   74,   79,  112,  116,  125,\n",
      "        134,  136,  160,  163,  172,  181,  197,  198,  218,  228,  242,\n",
      "        243,  248,  261,  279,  289,  291,  304,  312,  326,  328,  332,\n",
      "        339,  340,  345,  348,  349,  355,  358,  364,  392,  402,  422,\n",
      "        435,  454,  464,  466,  469,  493,  517,  519,  559,  571,  574,\n",
      "        585,  603,  606,  631,  645,  649,  659,  669,  680,  692,  693,\n",
      "        694,  703,  736,  742,  747,  758,  775,  784,  788,  797,  804,\n",
      "        812,  820,  832,  837,  841,  851,  862,  866,  871,  874,  888,\n",
      "        890,  893,  901,  909,  913,  919,  933,  955,  958,  967,  968,\n",
      "        972,  973,  976,  977,  989, 1002, 1004, 1014, 1020, 1022, 1024,\n",
      "       1027, 1031, 1044, 1054, 1062, 1069, 1072, 1076, 1084, 1111, 1118,\n",
      "       1129, 1136, 1153, 1160, 1180, 1231, 1235, 1244, 1250, 1258, 1262,\n",
      "       1267, 1270, 1288, 1289, 1290, 1294, 1299, 1308, 1309], dtype=int64),)\n",
      "(array([  13,   18,   23,   26,   40,   46,   48,   57,   63,   80,   87,\n",
      "         89,  103,  139,  150,  162,  175,  177,  202,  208,  209,  230,\n",
      "        253,  260,  283,  287,  302,  311,  314,  323,  324,  330,  346,\n",
      "        350,  360,  367,  369,  374,  379,  387,  396,  403,  429,  438,\n",
      "        450,  455,  459,  463,  468,  473,  480,  492,  503,  507,  514,\n",
      "        535,  538,  548,  554,  578,  582,  598,  600,  610,  612,  626,\n",
      "        628,  638,  657,  698,  706,  721,  730,  733,  739,  741,  757,\n",
      "        763,  795,  805,  807,  816,  817,  819,  827,  836,  846,  847,\n",
      "        856,  860,  876,  878,  917,  926,  945,  969,  970,  971,  974,\n",
      "        975,  992, 1001, 1013, 1040, 1042, 1077, 1080, 1089, 1099, 1106,\n",
      "       1110, 1121, 1161, 1167, 1189, 1201, 1202, 1215, 1222, 1229, 1245,\n",
      "       1247, 1271, 1282, 1284, 1297, 1298, 1305, 1314, 1316, 1336],\n",
      "      dtype=int64),)\n",
      "(array([   5,   12,   27,   36,   42,   54,   59,   60,   70,   94,   96,\n",
      "         99,  115,  118,  121,  123,  126,  137,  153,  161,  168,  183,\n",
      "        184,  185,  203,  212,  217,  222,  225,  226,  232,  240,  247,\n",
      "        251,  272,  296,  298,  299,  316,  317,  322,  327,  398,  399,\n",
      "        406,  419,  420,  428,  442,  448,  477,  486,  497,  508,  511,\n",
      "        520,  522,  523,  531,  534,  540,  549,  560,  569,  604,  605,\n",
      "        624,  632,  635,  636,  642,  646,  661,  674,  675,  683,  695,\n",
      "        705,  707,  718,  729,  734,  756,  782,  790,  791,  826,  865,\n",
      "        870,  885,  891,  910,  916,  918,  924,  931,  935,  939,  950,\n",
      "        951,  956,  962,  990,  991,  997, 1015, 1023, 1046, 1047, 1051,\n",
      "       1061, 1087, 1092, 1097, 1101, 1104, 1109, 1112, 1114, 1122, 1125,\n",
      "       1145, 1151, 1159, 1177, 1183, 1191, 1221, 1223, 1225, 1228, 1237,\n",
      "       1239, 1249, 1251, 1253, 1257, 1272, 1275, 1281, 1303, 1313, 1315,\n",
      "       1325, 1332, 1334, 1337, 1344], dtype=int64),)\n",
      "(array([  17,   25,   28,   32,   43,   62,   77,   84,   86,   88,   93,\n",
      "         97,  109,  127,  132,  148,  157,  165,  179,  189,  195,  206,\n",
      "        220,  233,  236,  241,  254,  255,  259,  271,  277,  282,  290,\n",
      "        294,  315,  318,  319,  321,  329,  352,  375,  377,  378,  385,\n",
      "        394,  397,  421,  427,  430,  445,  460,  474,  478,  483,  506,\n",
      "        532,  533,  555,  564,  587,  589,  591,  595,  596,  599,  618,\n",
      "        629,  643,  662,  672,  715,  723,  725,  737,  740,  744,  752,\n",
      "        755,  762,  769,  774,  781,  796,  813,  821,  823,  833,  850,\n",
      "        859,  864,  881,  883,  892,  897,  912,  923,  929,  947,  965,\n",
      "       1009, 1018, 1021, 1029, 1070, 1078, 1081, 1105, 1124, 1127, 1139,\n",
      "       1144, 1157, 1169, 1199, 1205, 1219, 1254, 1268, 1301, 1304, 1306,\n",
      "       1319, 1328, 1333], dtype=int64),)\n",
      "(array([   6,    7,   16,   21,   22,   31,   34,   35,   38,   66,   85,\n",
      "         92,  119,  122,  129,  147,  171,  182,  188,  201,  205,  207,\n",
      "        214,  224,  246,  252,  268,  269,  270,  280,  305,  306,  361,\n",
      "        368,  373,  388,  401,  411,  439,  443,  447,  449,  472,  476,\n",
      "        496,  500,  502,  515,  526,  539,  542,  544,  552,  557,  572,\n",
      "        575,  579,  607,  609,  615,  617,  652,  670,  676,  687,  700,\n",
      "        704,  708,  712,  716,  717,  720,  722,  728,  732,  750,  753,\n",
      "        770,  772,  779,  801,  818,  822,  829,  839,  849,  882,  886,\n",
      "        903,  908,  949,  959,  980,  981,  983,  986, 1008, 1028, 1045,\n",
      "       1053, 1057, 1058, 1073, 1100, 1103, 1108, 1115, 1119, 1137, 1141,\n",
      "       1148, 1155, 1172, 1181, 1188, 1190, 1192, 1193, 1195, 1197, 1213,\n",
      "       1220, 1232, 1233, 1241, 1242, 1246, 1255, 1261, 1274, 1296, 1310,\n",
      "       1320, 1323], dtype=int64),)\n"
     ]
    },
    {
     "data": {
      "image/png": "[encoded data removed]",
      "text/plain": [
       "<Figure size 400x400 with 1 Axes>"
      ]
     },
     "metadata": {},
     "output_type": "display_data"
    }
   ],
   "source": [
    "# TODO Reducimos la dimensionalidad de los datos DE VALIDACIÓN data_val\n",
    "# a 2 dimensiones usando TSNE y/o PCA\n",
    "pca = PCA(n_components=2)\n",
    "reduced_data_val = pca.fit_transform(data_val)\n",
    "\n",
    "labels = np.unique(target_train)\n",
    "print(labels)\n",
    "print(len(target_train))\n",
    "print(len(reduced_data_val))\n",
    "fig, ax_pca = plt.subplots(1, 1, figsize=(4,4))\n",
    "fig.suptitle(\"Puntos reducidos a dos dimensiones\")\n",
    "for c in labels:\n",
    "    indices = np.where(target_train == c)\n",
    "    print(indices)\n",
    "    indices =  np.where( indices[0] < 450)\n",
    "\n",
    "    plot_data = reduced_data_val[indices]\n",
    "    ax_pca.scatter(plot_data[:, 0], plot_data[:, 1], label=f\"Grupo {c}\")\n",
    "plt.show()"
   ]
  },
  {
   "attachments": {},
   "cell_type": "markdown",
   "metadata": {},
   "source": [
    "Para la imagen anterior, explica detalladamente que información nos da sobre el dataset."
   ]
  },
  {
   "attachments": {},
   "cell_type": "markdown",
   "metadata": {},
   "source": [
    "# 2. Funciones de utilidad\n",
    "En la siguiente sección definimos algunas funciones que podrías llegar a necesitar. Esto depende completamente de cómo decidas implementar tu algoritmo. Lee la descripción de las siguientes funciones y determina si las necesitas."
   ]
  },
  {
   "cell_type": "code",
   "execution_count": 1,
   "metadata": {},
   "outputs": [],
   "source": [
    "# DBScan no tiene una definición para predecir nuevos datos,\n",
    "# puedes usar el siguiente código para hacer inferencia con dbscan\n",
    "import scipy as sp\n",
    "def dbscan_predict(dbscan_model, X_new, metric=sp.spatial.distance.cosine):\n",
    "    # Result is noise by default\n",
    "    y_new = np.ones(shape=len(X_new), dtype=int)*-1 \n",
    "    # Iterate all input samples for a label\n",
    "    for j, x_new in enumerate(X_new):\n",
    "        # Find a core sample closer than EPS\n",
    "        for i, x_core in enumerate(dbscan_model.components_): \n",
    "            if metric(x_new, x_core) < dbscan_model.eps:\n",
    "                # Assign label of x_core to x_new\n",
    "                y_new[j] = dbscan_model.labels_[dbscan_model.core_sample_indices_[i]]\n",
    "                break\n",
    "    return y_new"
   ]
  },
  {
   "attachments": {},
   "cell_type": "markdown",
   "metadata": {},
   "source": [
    "# 3. Tu turno!\n",
    "Datos los datos `data_train` con las etiquetas `target_train` define y entrena un algoritmo que identifique dígitos. Puedes utilizar tu método preferido. Utiliza las librerías de scikit learn. En la sección de abajo encontrarás un código que puedes usar para probar tu algoritmo. Agrega el código necesario en el método de `mi_modelo` para entrenar el modelo que decidas usar"
   ]
  },
  {
   "attachments": {},
   "cell_type": "markdown",
   "metadata": {},
   "source": [
    "## Modelo de agrupamiento"
   ]
  },
  {
   "cell_type": "code",
   "execution_count": null,
   "metadata": {},
   "outputs": [],
   "source": [
    "# Instanciamos la normalización de datos.\n",
    "# Comó validación debe estar completamente disjunto de entrenamiento\n",
    "# Seleccionamos los valores de normalización usando los datos de entrenamiento\n",
    "# y aplicamos la misma normalización a ambos\n",
    "scaler = StandardScaler()\n",
    "scaler.fit(data_train)\n",
    "\n",
    "def mi_modelo(X, label):\n",
    "    '''\n",
    "        args:\n",
    "            - X (nd.array): Arreglo de dimensionalidad (N, D) donde D=64 conteniendo las imágenes en forma de vector\n",
    "            - label (nd.array, tipo int): Arreglo de dimensionalidad (N,) conteniendo las etiquetas de clase/grupo para cada imagen\n",
    "        returns:\n",
    "            - model (object): Instancia de clase del modelo entrenado en los datos X normalizados\n",
    "    '''\n",
    "    # Normalizamos los datos de entrenamiento\n",
    "    data = scaler.transform(X)\n",
    "\n",
    "    # TODO: Entrena el modelo y regresa el modelo entrenado en los datos de entrenamiento.\n",
    "    # Entrena tu modelo con los DATOS NORMALIZADOS\n",
    "\n",
    "    return model\n",
    "\n",
    "def mi_inferencia(modelo, X_val):\n",
    "    '''\n",
    "        args:\n",
    "            - modelo(object): Instancia de la clase del modelo que estés utilizando\n",
    "            - X_val(np.ndarray): Arreglo de dimensionalidad (N, D) donde D=64 conteniendo las imágenes en forma de vector\n",
    "        returns:\n",
    "            - preds(np.ndarray, tipo int): Arreglo de dimensionalidad (N,) conteniendo las predicciones de clase/grupo para cada imagen\n",
    "    '''\n",
    "    # Normalizamos los datos de validación\n",
    "    # El mismos preprocesamiento de datos se aplica a\n",
    "    # tanto inferencia como entrenamiento\n",
    "    data = scaler.transform(X_val)\n",
    "\n",
    "    # TODO: Utiliza el modelo para predecir valores para los datos de validación\n",
    "    # Regresa las predicciones de tu modelo para X_val.\n",
    "    # Aplica inferencia sobre los DATOS NORMALIZADOS\n",
    "    \n",
    "    return preds\n",
    "\n",
    "# Utilizamos solo los datos de entrenamiento (alta dimensionalidad) para entrenar\n",
    "modelo = mi_modelo(data_train, target_train)\n",
    "\n",
    "# Utilizamos los datos de validacion (alta dimensionalidad) para hacer inferencia\n",
    "# con el modelo entrenado\n",
    "pred = mi_inferencia(modelo, data_val)"
   ]
  },
  {
   "attachments": {},
   "cell_type": "markdown",
   "metadata": {},
   "source": [
    "# 4. Evaluación y análisis de las predicciones\n",
    "En esta sección incluimos funciones que te permiten visualizar la predicción de tu modelo para el set de validación. Dado que nuestros datos son de alta dimensionalidad (64) necesitamos reducirlos para poder analizar las predicciones. Recuerda que en esta sección solo funcionará si has definido tu modelo correctamente en el método anterior `mi_modelo`. Recuerda que en esta sección nos interesa mostar el rendimiento del modelo en los datos de *validación*.\n",
    "\n",
    "## 4.1 (Inferencia) Predicciones en baja dimensionalidad\n",
    "\\# TODO:\n",
    "\n",
    "Diseña un programa tal que puedas visualizar **las predicciones de TU modelo** de el dataset de validación en baja dimensionalidad. \n",
    "- Utiliza el método de reducción de dimensionalidad que consideres te ayude mejor a analizar tus datos. \n",
    "- Cada clase/grupo deberá mostrarse en un color diferente.\n",
    "- Además de visualizar las predicciones, visualiza las predicciones **correctas**\n",
    "- Puedes basarte en el código al inicio del notebook para mostrar los puntos o en los ejercicios pasados.\n",
    "- Revisa el pdf adjunto tal que observes cómo deberías presentar tus resultados."
   ]
  },
  {
   "cell_type": "code",
   "execution_count": null,
   "metadata": {},
   "outputs": [],
   "source": [
    "# Llamamos a inferencia de su modelo\n",
    "# preds deberá ser de la forma N,1\n",
    "# indicando el número al que corresponde cada imagen\n",
    "preds = mi_inferencia(modelo, data_val)\n",
    "\n",
    "# Buscamos la cantidad de grupos/clases que hay en los datos de validación\n",
    "group_pred = np.unique(preds)\n",
    "n_groups = len(group_pred)\n",
    "print(f\"Datos {data_val.shape}, predicciones {preds.shape}, clases/grupos {n_groups}\")\n",
    "\n",
    "fig, ax_reduced = plt.subplots(1, 1, figsize=(4,4))\n",
    "fig.suptitle(\"Puntos clasificados reducidos a dos dimensiones\")\n",
    "\n",
    "# TODO: Grafíca los datos DE VALIDACIÓN reducidos (reduced_data_val)\n",
    "# con un color distinto para cada grupo/clase que tu modelo ha predecido (preds)\n",
    "#========== Start =========\n",
    "\n",
    "#========== End ===========\n",
    "plt.show()\n",
    "plt.legend()"
   ]
  },
  {
   "attachments": {},
   "cell_type": "markdown",
   "metadata": {},
   "source": [
    "## 4.2 (Inferencia) Visualizar imagenes en cada grupo/clase\n",
    "Completa el código de la siguiente celda. El siguiente código llama al método de inferencia anteriormente definido. Deberás mostrar al menos 1 imagen por cada grupo de predicción de tu modelo. Puedes intentar seleccionar una imagen representativa del grupo, o también puedes mostrar n imágenes aleatorias por cada grupo/clase. El objetivo de esto es analizar lo que ha aprendido tu modelo.\n",
    "\n",
    "#### Métodos de clasificación\n",
    "Si utilizaste un método de clasificación multiclase, los esperable sería que el valor real de la muestra (GT) sea igual al valor de la predicción para al menos la mayoría de los casos.\n",
    "\n",
    "#### Métodos de agrupamiento\n",
    "Si utilizaste un algoritmo de agrupamiento, es esperable que el valor real de la muestra (GT) no sea igual al grupo de tu predicción. Recuerda que al ser aprendizaje no supervisado, necesitamos adicionalmente \"mapear\" los grupos que haya encontrado el algoritmo a los reales. Puedes usar esta sección para hacer dicho mapeo. Lo mas sencillo es usar un diccionario"
   ]
  },
  {
   "cell_type": "code",
   "execution_count": null,
   "metadata": {},
   "outputs": [],
   "source": [
    "# Llamamos a inferencia de su modelo\n",
    "# Este método regresará las clases/grupos\n",
    "# que haya encontrado para cada punto de validación\n",
    "preds = mi_inferencia(modelo, data_val)\n",
    "\n",
    "# Clases/grupos distintos de predicciones\n",
    "group_pred = np.unique(preds)\n",
    "n_groups = len(group_pred)\n",
    "\n",
    "# Graficar\n",
    "n_cols = 5\n",
    "fig, axes = plt.subplots(n_groups//n_cols, n_cols, figsize=(10,6))  # Puedes cambiar o eliminar esta linea si lo consideras necesario.\n",
    "axes = axes.flatten() # Convertir los axes a lista para poder iterarlos\n",
    "# TODO: Muestra una imagen por cada grupo/clase de preddicion\n",
    "#========== Start =========\n",
    "#========== End ===========\n",
    "fig.suptitle(\"Muestras representativas por grupo\")\n",
    "plt.tight_layout()\n",
    "plt.show()"
   ]
  },
  {
   "attachments": {},
   "cell_type": "markdown",
   "metadata": {},
   "source": [
    "## 4.3 (Inferencia) Calculando el accuracy\n",
    "En la siguiente celda calcula una métrica (un valor numérico) para TODO el conjunto de validación donde indiques cuantas muestras en promedio clasifica tu modelo correctamente."
   ]
  },
  {
   "cell_type": "code",
   "execution_count": null,
   "metadata": {},
   "outputs": [],
   "source": [
    "datos = data_val\n",
    "etiquetas = target_val\n",
    "preddicciones = mi_inferencia(modelo, datos)\n",
    "\n",
    "# TODO: Calcula el \"accuracy\" promedio"
   ]
  },
  {
   "attachments": {},
   "cell_type": "markdown",
   "metadata": {},
   "source": [
    "En base a lo que puedes observar en las celdas anteriores de esta sección, responde:\n",
    "- ¿Consideras que tu algoritmo ha aprendido algo que tiene sentido?\n",
    "- ¿Qué aprendió tu modelo?\n",
    "- ¿Cómo podrías generar una métrica para evaluar el rendimiento en validación?\n",
    "- ¿Cuál es el rendimiento de tu modelo en validación? (De preferencia proporciona un número y analízalo)\n",
    "- ¿En que situaciones falla?\n",
    "- ¿A que crees que se deba esto?\n",
    "- ¿Cómo podrías mejorarlo?"
   ]
  }
 ],
 "metadata": {
  "kernelspec": {
   "display_name": "base",
   "language": "python",
   "name": "python3"
  },
  "language_info": {
   "codemirror_mode": {
    "name": "ipython",
    "version": 3
   },
   "file_extension": ".py",
   "mimetype": "text/x-python",
   "name": "python",
   "nbconvert_exporter": "python",
   "pygments_lexer": "ipython3",
   "version": "3.9.13"
  },
  "orig_nbformat": 4,
  "vscode": {
   "interpreter": {
    "hash": "8d5faaa5979a9607102f227389715289e53ef913e1b97460ed7c00783a59a22f"
   }
  }
 },
 "nbformat": 4,
 "nbformat_minor": 2
}
